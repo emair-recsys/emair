{
 "cells": [
  {
   "cell_type": "markdown",
   "id": "d8c80c86",
   "metadata": {},
   "source": [
    "# Juputer notebook implementation of Easy Model-Agnostic Approach for Inductive Recommendations"
   ]
  },
  {
   "cell_type": "markdown",
   "id": "b3b7aa44",
   "metadata": {},
   "source": [
    "## I. Preparation of necessary functions"
   ]
  },
  {
   "cell_type": "markdown",
   "id": "a98208c3",
   "metadata": {},
   "source": [
    "We have prepared scores for the interaction matrix. This made it possible to calculate the results of both the baselines and the proposed method"
   ]
  },
  {
   "cell_type": "code",
   "execution_count": 1,
   "id": "1e08c418",
   "metadata": {},
   "outputs": [
    {
     "name": "stderr",
     "output_type": "stream",
     "text": [
      "/home/o.lashinin/.local/lib/python3.8/site-packages/pandas/compat/__init__.py:97: UserWarning: Could not import the lzma module. Your installed Python is incomplete. Attempting to use lzma compression will result in a RuntimeError.\n",
      "  warnings.warn(msg)\n"
     ]
    }
   ],
   "source": [
    "import pandas as pd\n",
    "import numpy as np\n",
    "\n",
    "import argparse\n",
    "import os\n",
    "\n",
    "import numpy as np\n",
    "import pandas as pd\n",
    "from scipy import sparse\n",
    "from collections import defaultdict\n",
    "from scipy import sparse as sps\n",
    "from matplotlib import pyplot as plt\n",
    "%matplotlib inline\n",
    "\n",
    "plt.style.use('fivethirtyeight')"
   ]
  },
  {
   "cell_type": "code",
   "execution_count": 10,
   "id": "aeeaeef6",
   "metadata": {},
   "outputs": [],
   "source": [
    "from typing import NamedTuple, Union\n",
    "from abc import ABC, abstractmethod\n",
    "\n",
    "import numpy as np\n",
    "\n",
    "\n",
    "class PrepareTargetResult(NamedTuple):\n",
    "    values: np.ndarray\n",
    "    indices: np.ndarray\n",
    "\n",
    "\n",
    "class Metric(ABC):\n",
    "    \"\"\"\n",
    "    Abstract class with structure for all metrics in the project.\n",
    "    \"\"\"\n",
    "\n",
    "    def __repr__(self) -> str:\n",
    "        return \"{:.4f}\".format(self.get_metric_value())\n",
    "\n",
    "    @abstractmethod\n",
    "    def __call__(self, output: np.ndarray, target: np.ndarray) -> None:\n",
    "        \"\"\"\n",
    "        Add new output and target to metric state.\n",
    "        Parameters\n",
    "        ----------\n",
    "        output : `np.ndarray`, required\n",
    "            Output from the model.\n",
    "        target : `np.ndarray`, required\n",
    "            True target.\n",
    "        \"\"\"\n",
    "        raise NotImplementedError()\n",
    "\n",
    "    @abstractmethod\n",
    "    def get_metric(self, reset: bool = False) -> Union[float, int]:\n",
    "        \"\"\"\n",
    "        Get current metric value.\n",
    "        Parameters\n",
    "        ----------\n",
    "        reset : `bool`, optional (default = `False`)\n",
    "            Whether to reset metric state or not.\n",
    "            If `True` then metric's sufficient statistics return to default state.\n",
    "        \"\"\"\n",
    "        raise NotImplementedError()\n",
    "\n",
    "    @abstractmethod\n",
    "    def reset(self) -> None:\n",
    "        \"\"\"Reset metric's state.\"\"\"\n",
    "        raise NotImplementedError()\n",
    "\n",
    "\n",
    "def validate_metric_inputs(output: np.ndarray, target: np.ndarray) -> None:\n",
    "    if output.shape != target.shape:\n",
    "        raise IndexError(\n",
    "            \"Unequal sizes for output and target: \"\n",
    "            f\"output - {output.shape}, target - {target.shape}.\"\n",
    "        )\n",
    "    if not (np.equal(target, 0) | np.equal(target, 1)).all():\n",
    "        raise ValueError(\"Target contains values outside of 0 and 1.\" f\"\\nTarget:\\n{target}\")\n",
    "\n",
    "\n",
    "def prepare_target(\n",
    "    output: np.ndarray, target: np.ndarray, return_indices: bool = False\n",
    ") -> Union[np.ndarray, PrepareTargetResult]:\n",
    "    \"\"\"\n",
    "    Sort target by output scores.\n",
    "    Parameters\n",
    "    ----------\n",
    "    output : `np.ndarray`, required\n",
    "        Model output scores for each item.\n",
    "    target : `np.ndarray`, required\n",
    "        True target for each item. It is a binary tensor.\n",
    "    Returns\n",
    "    -------\n",
    "    `Union[np.ndarray, PrepareTargetResult]`\n",
    "        Target sorted by output scores in descending order.\n",
    "    \"\"\"\n",
    "    validate_metric_inputs(output, target)\n",
    "    # Define order by sorted output scores.\n",
    "    indices = np.argsort(-output, axis=-1)\n",
    "    sorted_target = np.take_along_axis(target, indices=indices, axis=-1)\n",
    "    return PrepareTargetResult(sorted_target, indices) if return_indices else sorted_target"
   ]
  },
  {
   "cell_type": "code",
   "execution_count": 11,
   "id": "9a0b6baf",
   "metadata": {},
   "outputs": [],
   "source": [
    "from typing import List\n",
    "import numpy as np\n",
    "\n",
    "\n",
    "class NDCG(Metric):\n",
    "    \"\"\"\n",
    "    Implementation of `Normalized Discounter Cumulative Gain` Metric.\n",
    "    Graded relevance as a measure of  usefulness, or gain, from examining a set of items.\n",
    "    Gain may be reduced at lower ranks.\n",
    "    Parameters\n",
    "    ----------\n",
    "    topk : `int`, required\n",
    "        Top-K elements to take into account.\n",
    "    gain_function : `str`, optional (default = `\"exp\"`)\n",
    "        Pick the gain function for the ground truth labels.\n",
    "        Two options:\n",
    "        - exp\n",
    "        - linear\n",
    "    \"\"\"\n",
    "\n",
    "    def __init__(self, topk: List[int], gain_function: str = \"exp\") -> None:\n",
    "        super().__init__()\n",
    "        assert all(x > 0 for x in topk), f\"Invalid topk value: {topk}\"\n",
    "        assert gain_function in (\n",
    "            \"exp\",\n",
    "            \"linear\",\n",
    "        ), f\"Invalid gain_function value: {gain_function}\"\n",
    "        self._topk = topk\n",
    "        self._total_ndcg = {f\"ndcg@{k}\": 0 for k in topk}\n",
    "        self._total_count = 0\n",
    "        self._dcg = exp_dcg if gain_function == \"exp\" else linear_dcg\n",
    "\n",
    "    def _compute(self, output: np.ndarray, target: np.ndarray) -> float:\n",
    "        topk = [min(target.shape[-1], x) - 1 for x in self._topk]\n",
    "        # non_empty_sum ~ (batch)\n",
    "        non_empty_sum = target.sum(axis=-1)\n",
    "        # target_sorted_by_output ~ (users, items)\n",
    "        target_sorted_by_output = prepare_target(output, target)\n",
    "        ideal_target = prepare_target(target, target)\n",
    "        # ideal_dcg ~ (users, items)\n",
    "        ideal_dcg = self._dcg(ideal_target).cumsum(axis=-1)\n",
    "        # prediction_dcg ~ (users, items)\n",
    "        prediction_dcg = self._dcg(target_sorted_by_output).cumsum(axis=-1)\n",
    "        # ndcg_score ~ (users, items)\n",
    "        ndcg_score = prediction_dcg / ideal_dcg\n",
    "        ndcg_score[ideal_dcg == 0] = 0.0\n",
    "        # Compute an average excluding samples with all zeros\n",
    "        # u - users, l - len(topk)\n",
    "        mean_ndcg_score = non_empty_average(\n",
    "            np.einsum(\"ul->lu\", ndcg_score[:, topk]),\n",
    "            batch_sum=non_empty_sum,\n",
    "        )\n",
    "        return mean_ndcg_score\n",
    "\n",
    "    def __call__(self, output: np.ndarray, target: np.ndarray) -> None:\n",
    "        self._total_count += 1\n",
    "        values = self._compute(output, target)\n",
    "        for topk, value in zip(self._topk, values):\n",
    "            self._total_ndcg[f\"ndcg@{topk}\"] += value\n",
    "\n",
    "    def get_metric(self, reset: bool = False) -> float:\n",
    "        average_ndcg = {\n",
    "            ndcg_k: value / self._total_count for ndcg_k, value in self._total_ndcg.items()\n",
    "        }\n",
    "        if reset:\n",
    "            self.reset()\n",
    "        return average_ndcg\n",
    "\n",
    "    def reset(self) -> None:\n",
    "        self._total_ndcg = {f\"ndcg@{k}\": 0 for k in self._topk}\n",
    "        self._total_count = 0\n"
   ]
  },
  {
   "cell_type": "code",
   "execution_count": 12,
   "id": "c55bc9a5",
   "metadata": {},
   "outputs": [],
   "source": [
    "from typing import List\n",
    "import numpy as np\n",
    "\n",
    "class Recall(Metric):\n",
    "    def __init__(self, topk: List[int]) -> None:\n",
    "        assert all(x > 0 for x in topk), f\"Invalid topk value: {topk}\"\n",
    "        self._total_recall = {f\"recall@{k}\": 0 for k in topk}\n",
    "        self._total_count = 0\n",
    "        self._topk = topk\n",
    "\n",
    "    def _compute(self, output: np.ndarray, target: np.ndarray) -> float:\n",
    "        topk = [min(target.shape[-1], x) - 1 for x in self._topk]\n",
    "        # non_empty_sum ~ (batch)\n",
    "        non_empty_sum = target.sum(axis=-1)\n",
    "        # target_sorted_by_output ~ (users, topk)\n",
    "        target_sorted_by_output = prepare_target(output, target)\n",
    "        recall_score = np.einsum(\n",
    "            \"ul->lu\", target_sorted_by_output.cumsum(axis=-1)[:, topk]\n",
    "        ) / target.sum(axis=-1)\n",
    "        # Compute an average excluding samples with all zeros\n",
    "        # recall_score ~ (topk)\n",
    "        recall_score = non_empty_average(nan_to_num(recall_score), batch_sum=non_empty_sum)\n",
    "        return recall_score\n",
    "\n",
    "    def __call__(self, output: np.ndarray, target: np.ndarray) -> None:\n",
    "        self._total_count += 1\n",
    "        values = self._compute(output, target)\n",
    "        for topk, recall in zip(self._topk, values):\n",
    "            self._total_recall[f\"recall@{topk}\"] += recall\n",
    "\n",
    "    def get_metric(self, reset: bool = False) -> float:\n",
    "        average_recall = {\n",
    "            recall_k: value / self._total_count for recall_k, value in self._total_recall.items()\n",
    "        }\n",
    "        if reset:\n",
    "            self.reset()\n",
    "        return average_recall\n",
    "\n",
    "    def reset(self) -> None:\n",
    "        self._total_recall = {f\"recall@{k}\": 0 for k in self._topk}\n",
    "        self._total_count = 0\n"
   ]
  },
  {
   "cell_type": "code",
   "execution_count": 13,
   "id": "36f9970b",
   "metadata": {},
   "outputs": [],
   "source": [
    "from typing import Union, List\n",
    "import numpy as np\n",
    "\n",
    "\n",
    "def nan_to_num(tensor: np.ndarray, nan: float = 0.0) -> np.ndarray:\n",
    "    return np.where(\n",
    "        np.logical_or(np.isnan(tensor), np.isinf(tensor)),\n",
    "        np.full_like(tensor, fill_value=nan),\n",
    "        tensor,\n",
    "    )\n",
    "\n",
    "\n",
    "def exp_dcg(tensor: np.ndarray) -> np.ndarray:\n",
    "    \"\"\"Calculate `Exponential` gain function for `NDCG` Metric.\"\"\"\n",
    "    gains = (2**tensor) - 1\n",
    "    discounts = 1 / np.log2(np.arange(0, tensor.shape[-1], dtype=np.float32) + 2.0)\n",
    "    return gains * discounts\n",
    "\n",
    "\n",
    "def linear_dcg(tensor: np.ndarray) -> np.ndarray:\n",
    "    \"\"\"Calculate `Linear` gain function for `NDCG` Metric.\"\"\"\n",
    "    discounts = 1 / np.log2(np.arange(0, tensor.shape[-1], dtype=np.float32) + 1.0)\n",
    "    discounts[0] = 1\n",
    "    return tensor * discounts\n",
    "\n",
    "\n",
    "def non_empty_average(\n",
    "    x: np.ndarray, batch_sum: np.ndarray, axis: Union[int, List[int]] = -1\n",
    ") -> np.ndarray:\n",
    "    num_non_empty_seq = (batch_sum > 0).astype(np.float32).sum().clip(min=1e-13)\n",
    "    return nan_to_num((x / num_non_empty_seq)).sum(axis=axis)"
   ]
  },
  {
   "cell_type": "code",
   "execution_count": 66,
   "id": "4c88bbc4",
   "metadata": {},
   "outputs": [],
   "source": [
    "from  annoy import AnnoyIndex\n",
    "from tqdm import tqdm\n",
    "\n",
    "class SemiPers:\n",
    "    \n",
    "    def __init__(self, train_inters, train_preds, metric='angular', method='avg'):\n",
    "        \n",
    "        self.train_inters = train_inters\n",
    "        self.train_preds = train_preds\n",
    "        self.metric = metric\n",
    "        self.method=method\n",
    "        \n",
    "        self.index = AnnoyIndex(train_inters.shape[1], metric)\n",
    "        for i in tqdm(range(train_inters.shape[0])):\n",
    "            if train_inters[i].sum() == 0:\n",
    "                print('skipped')\n",
    "                continue\n",
    "            self.index.add_item(i, train_inters[i])\n",
    "            \n",
    "        self.index.build(10) # 10 trees\n",
    "        \n",
    "        \n",
    "    def predict(self, batch, nngb=1):\n",
    "        \n",
    "        ids_of_similar_users = []\n",
    "\n",
    "        for user in range(batch.shape[0]):\n",
    "            user_vector = batch[user]\n",
    "            min_indexs = self.index.get_nns_by_vector(user_vector, nngb+1, include_distances=False)[1:]\n",
    "            ids_of_similar_users.append(min_indexs)        \n",
    "            \n",
    "            if user % 1000 == 0 and user:\n",
    "                print(f'{user} processed out of {batch.shape[0]}')\n",
    "\n",
    "        ids_of_similar_users = np.array(ids_of_similar_users)\n",
    "        final_preds = self.train_preds[ids_of_similar_users.astype(np.int32)].sum(1)\n",
    "        return final_preds\n",
    "\n",
    "    "
   ]
  },
  {
   "cell_type": "markdown",
   "id": "28bbb695",
   "metadata": {},
   "source": [
    "## II. Recommendation quality"
   ]
  },
  {
   "cell_type": "code",
   "execution_count": 73,
   "id": "facba53b",
   "metadata": {},
   "outputs": [
    {
     "name": "stdout",
     "output_type": "stream",
     "text": [
      "(593, 3260) (638, 3260) (593, 3260) (638, 3260)\n",
      "top_popular\n",
      "multivae\n",
      "ease\n",
      "multivae\n"
     ]
    },
    {
     "name": "stderr",
     "output_type": "stream",
     "text": [
      "100%|██████████| 4809/4809 [00:02<00:00, 2153.32it/s]\n",
      "100%|██████████| 4809/4809 [00:02<00:00, 2125.42it/s]\n",
      "100%|██████████| 4809/4809 [00:02<00:00, 2363.26it/s]\n"
     ]
    },
    {
     "name": "stdout",
     "output_type": "stream",
     "text": [
      "multivae 5 angular\n"
     ]
    },
    {
     "name": "stderr",
     "output_type": "stream",
     "text": [
      "100%|██████████| 4809/4809 [00:02<00:00, 2255.99it/s]\n"
     ]
    },
    {
     "name": "stdout",
     "output_type": "stream",
     "text": [
      "ials\n"
     ]
    },
    {
     "name": "stderr",
     "output_type": "stream",
     "text": [
      "100%|██████████| 4809/4809 [00:02<00:00, 1978.32it/s]\n",
      "100%|██████████| 4809/4809 [00:02<00:00, 2154.18it/s]\n",
      "100%|██████████| 4809/4809 [00:02<00:00, 2305.11it/s]\n"
     ]
    },
    {
     "name": "stdout",
     "output_type": "stream",
     "text": [
      "ials 1 euclidean\n"
     ]
    },
    {
     "name": "stderr",
     "output_type": "stream",
     "text": [
      "100%|██████████| 4809/4809 [00:02<00:00, 2195.51it/s]\n"
     ]
    },
    {
     "name": "stdout",
     "output_type": "stream",
     "text": [
      "ease\n"
     ]
    },
    {
     "name": "stderr",
     "output_type": "stream",
     "text": [
      "100%|██████████| 4809/4809 [00:02<00:00, 2047.88it/s]\n",
      "100%|██████████| 4809/4809 [00:02<00:00, 2379.48it/s]\n",
      "100%|██████████| 4809/4809 [00:02<00:00, 2107.10it/s]\n"
     ]
    },
    {
     "name": "stdout",
     "output_type": "stream",
     "text": [
      "ease 1 euclidean\n"
     ]
    },
    {
     "name": "stderr",
     "output_type": "stream",
     "text": [
      "100%|██████████| 4809/4809 [00:02<00:00, 2274.65it/s]\n"
     ]
    },
    {
     "name": "stdout",
     "output_type": "stream",
     "text": [
      "(1031, 40981) (980, 40981) (1031, 40981) (980, 40981)\n",
      "top_popular\n",
      "multivae\n",
      "ease\n",
      "multivae\n"
     ]
    },
    {
     "name": "stderr",
     "output_type": "stream",
     "text": [
      "100%|██████████| 7989/7989 [00:38<00:00, 205.31it/s]\n"
     ]
    },
    {
     "name": "stdout",
     "output_type": "stream",
     "text": [
      "1000 processed out of 1031\n",
      "1000 processed out of 1031\n",
      "1000 processed out of 1031\n",
      "1000 processed out of 1031\n",
      "1000 processed out of 1031\n"
     ]
    },
    {
     "name": "stderr",
     "output_type": "stream",
     "text": [
      "100%|██████████| 7989/7989 [00:38<00:00, 207.21it/s]\n"
     ]
    },
    {
     "name": "stdout",
     "output_type": "stream",
     "text": [
      "1000 processed out of 1031\n",
      "1000 processed out of 1031\n",
      "1000 processed out of 1031\n",
      "1000 processed out of 1031\n"
     ]
    },
    {
     "name": "stderr",
     "output_type": "stream",
     "text": [
      "100%|██████████| 7989/7989 [00:36<00:00, 216.78it/s]\n"
     ]
    },
    {
     "name": "stdout",
     "output_type": "stream",
     "text": [
      "1000 processed out of 1031\n",
      "1000 processed out of 1031\n",
      "1000 processed out of 1031\n",
      "1000 processed out of 1031\n",
      "1000 processed out of 1031\n",
      "multivae 10 angular\n"
     ]
    },
    {
     "name": "stderr",
     "output_type": "stream",
     "text": [
      "100%|██████████| 7989/7989 [00:38<00:00, 208.95it/s]\n"
     ]
    },
    {
     "name": "stdout",
     "output_type": "stream",
     "text": [
      "ials\n"
     ]
    },
    {
     "name": "stderr",
     "output_type": "stream",
     "text": [
      "100%|██████████| 7989/7989 [00:38<00:00, 205.12it/s]\n"
     ]
    },
    {
     "name": "stdout",
     "output_type": "stream",
     "text": [
      "1000 processed out of 1031\n",
      "1000 processed out of 1031\n",
      "1000 processed out of 1031\n",
      "1000 processed out of 1031\n",
      "1000 processed out of 1031\n"
     ]
    },
    {
     "name": "stderr",
     "output_type": "stream",
     "text": [
      "100%|██████████| 7989/7989 [00:38<00:00, 209.15it/s]\n"
     ]
    },
    {
     "name": "stdout",
     "output_type": "stream",
     "text": [
      "1000 processed out of 1031\n",
      "1000 processed out of 1031\n",
      "1000 processed out of 1031\n",
      "1000 processed out of 1031\n",
      "1000 processed out of 1031\n"
     ]
    },
    {
     "name": "stderr",
     "output_type": "stream",
     "text": [
      "100%|██████████| 7989/7989 [00:36<00:00, 216.79it/s]\n"
     ]
    },
    {
     "name": "stdout",
     "output_type": "stream",
     "text": [
      "1000 processed out of 1031\n",
      "1000 processed out of 1031\n",
      "1000 processed out of 1031\n",
      "1000 processed out of 1031\n",
      "1000 processed out of 1031\n",
      "ials 15 angular\n"
     ]
    },
    {
     "name": "stderr",
     "output_type": "stream",
     "text": [
      "100%|██████████| 7989/7989 [00:38<00:00, 207.56it/s]\n"
     ]
    },
    {
     "name": "stdout",
     "output_type": "stream",
     "text": [
      "ease\n"
     ]
    },
    {
     "name": "stderr",
     "output_type": "stream",
     "text": [
      "100%|██████████| 7989/7989 [00:38<00:00, 207.52it/s]\n"
     ]
    },
    {
     "name": "stdout",
     "output_type": "stream",
     "text": [
      "1000 processed out of 1031\n",
      "1000 processed out of 1031\n",
      "1000 processed out of 1031\n",
      "1000 processed out of 1031\n",
      "1000 processed out of 1031\n"
     ]
    },
    {
     "name": "stderr",
     "output_type": "stream",
     "text": [
      "100%|██████████| 7989/7989 [00:38<00:00, 209.38it/s]\n"
     ]
    },
    {
     "name": "stdout",
     "output_type": "stream",
     "text": [
      "1000 processed out of 1031\n",
      "1000 processed out of 1031\n",
      "1000 processed out of 1031\n",
      "1000 processed out of 1031\n",
      "1000 processed out of 1031\n"
     ]
    },
    {
     "name": "stderr",
     "output_type": "stream",
     "text": [
      "100%|██████████| 7989/7989 [00:38<00:00, 208.20it/s]\n"
     ]
    },
    {
     "name": "stdout",
     "output_type": "stream",
     "text": [
      "(945, 38048) (1002, 38048) (945, 38048) (1002, 38048)\n",
      "top_popular\n",
      "multivae\n",
      "ease\n",
      "multivae\n"
     ]
    },
    {
     "name": "stderr",
     "output_type": "stream",
     "text": [
      "100%|██████████| 8053/8053 [00:36<00:00, 218.70it/s]\n",
      "100%|██████████| 8053/8053 [00:37<00:00, 216.82it/s]\n",
      "100%|██████████| 8053/8053 [00:35<00:00, 226.28it/s]\n"
     ]
    },
    {
     "name": "stdout",
     "output_type": "stream",
     "text": [
      "multivae 15 angular\n"
     ]
    },
    {
     "name": "stderr",
     "output_type": "stream",
     "text": [
      "100%|██████████| 8053/8053 [00:35<00:00, 224.58it/s]\n"
     ]
    },
    {
     "name": "stdout",
     "output_type": "stream",
     "text": [
      "1000 processed out of 1002\n",
      "ials\n"
     ]
    },
    {
     "name": "stderr",
     "output_type": "stream",
     "text": [
      "100%|██████████| 8053/8053 [00:36<00:00, 219.83it/s]\n",
      "100%|██████████| 8053/8053 [00:36<00:00, 220.44it/s]\n",
      "100%|██████████| 8053/8053 [00:35<00:00, 225.25it/s]\n"
     ]
    },
    {
     "name": "stdout",
     "output_type": "stream",
     "text": [
      "ials 15 angular\n"
     ]
    },
    {
     "name": "stderr",
     "output_type": "stream",
     "text": [
      "100%|██████████| 8053/8053 [00:36<00:00, 219.95it/s]\n"
     ]
    },
    {
     "name": "stdout",
     "output_type": "stream",
     "text": [
      "1000 processed out of 1002\n",
      "ease\n"
     ]
    },
    {
     "name": "stderr",
     "output_type": "stream",
     "text": [
      "100%|██████████| 8053/8053 [00:36<00:00, 221.06it/s]\n",
      "100%|██████████| 8053/8053 [00:37<00:00, 215.10it/s]\n",
      "100%|██████████| 8053/8053 [00:35<00:00, 228.16it/s]\n"
     ]
    },
    {
     "name": "stdout",
     "output_type": "stream",
     "text": [
      "ease 5 angular\n"
     ]
    },
    {
     "name": "stderr",
     "output_type": "stream",
     "text": [
      "100%|██████████| 8053/8053 [00:35<00:00, 225.89it/s]\n"
     ]
    },
    {
     "name": "stdout",
     "output_type": "stream",
     "text": [
      "1000 processed out of 1002\n"
     ]
    }
   ],
   "source": [
    "global_dict_gen = {}\n",
    "nngb_list = [1,5, 10, 15, 20] \n",
    "\n",
    "datasets = ['ml-1m','gowalla','yelp2018']\n",
    "\n",
    "for dataset in datasets:\n",
    "    \n",
    "    train_matrix = sps.load_npz(f'../assets/clean/{dataset}/interactions.train.npz').toarray()\n",
    "    \n",
    "    output_valid = sps.load_npz(f'../assets/clean/{dataset}/spr_interactions_output.valid.npz').toarray()\n",
    "    output_test = sps.load_npz(f'../assets/clean/{dataset}/spr_interactions_output.test.npz').toarray()\n",
    "\n",
    "    input_valid = sps.load_npz(f'../assets/clean/{dataset}/spr_interactions_input.valid.npz').toarray()\n",
    "    input_test = sps.load_npz(f'../assets/clean/{dataset}/spr_interactions_input.test.npz').toarray()\n",
    "    \n",
    "    print(output_valid.shape, output_test.shape, input_valid.shape, input_test.shape)\n",
    "    for model in ['top_popular','multivae','ease']:\n",
    "        print(model)\n",
    "        recall = Recall(topk=[10, 20, 50, 100])\n",
    "        ndcg = NDCG(topk=[10, 20, 50, 100])\n",
    "\n",
    "        valid_scores = np.load(f'../assets/clean/{dataset}/{dataset}_{model}/valid_preds.npy')\n",
    "        test_scores = np.load(f'../assets/clean/{dataset}/{dataset}_{model}/test_preds.npy')\n",
    "\n",
    "        valid_scores[input_valid>0] = -np.inf\n",
    "        test_scores[input_test>0] = -np.inf\n",
    "\n",
    "        ndcg(test_scores, output_test)\n",
    "        recall(test_scores, output_test)\n",
    "\n",
    "        for metric in (recall, ndcg):\n",
    "            values = metric.get_metric()\n",
    "            for key in values.keys():\n",
    "                global_dict_gen[(dataset, model, key)] = values[key]\n",
    "                \n",
    "                \n",
    "    ''' SP '''\n",
    "    for model in ['multivae','ials','ease']:\n",
    "        print(model)\n",
    "\n",
    "        train_preds =  np.load(f'../assets/clean/{dataset}/{dataset}_{model}/train_preds.npy')\n",
    "        \n",
    "        # hyper params tuning\n",
    "        max_recall = 0\n",
    "        best_nngb = -1\n",
    "        best_m = -1\n",
    "        for m in ['angular','euclidean','hamming']:\n",
    "        \n",
    "            sp = SemiPers(train_matrix, train_preds,metric=m)\n",
    "            for nngb in nngb_list:\n",
    "            \n",
    "                recall = Recall(topk=[10, 20, 50, 100])\n",
    "                ndcg = NDCG(topk=[10, 20, 50, 100])\n",
    "                \n",
    "                preds = sp.predict(input_valid, nngb=nngb)\n",
    "                preds[input_valid>0] = -np.inf\n",
    "                \n",
    "                recall(preds, output_valid)\n",
    "                rmetric = recall.get_metric()\n",
    "                \n",
    "                if max_recall < rmetric['recall@20']:\n",
    "                    max_recall = rmetric['recall@20']\n",
    "                    best_nngb = nngb\n",
    "                    best_m = m\n",
    "                    \n",
    "        print(model, best_nngb, best_m)\n",
    "        # testing           \n",
    "        recall = Recall(topk=[10, 20, 50, 100])\n",
    "        ndcg = NDCG(topk=[10, 20, 50, 100])\n",
    "        sp = SemiPers(train_matrix, train_preds,metric=best_m)\n",
    "\n",
    "        preds = sp.predict(input_test, nngb=best_nngb)\n",
    "        preds[input_test>0] = -np.inf\n",
    "\n",
    "        ndcg(preds, output_test)\n",
    "        recall(preds, output_test)\n",
    "        \n",
    "        for metric in (recall, ndcg):\n",
    "            values = metric.get_metric()\n",
    "            for key in values.keys():\n",
    "                global_dict_gen[(dataset, 'ESPRec_'+\"{\"+model+'}', key)] = values[key]\n",
    "                \n",
    "\n"
   ]
  },
  {
   "cell_type": "code",
   "execution_count": 82,
   "id": "9c680846",
   "metadata": {},
   "outputs": [],
   "source": [
    "optimal_values = {('ml-1m','multivae'):0,('ml-1m','ease'):1,('ml-1m','ials'):1,\n",
    "                  ('gowalla','multivae'):0,('gowalla','ease'):0,('gowalla','ials'):0,\n",
    "                  ('yelp2018','multivae'):0,('yelp2018','ease'):0,('yelp2018','ials'):0}\n",
    "                  "
   ]
  },
  {
   "cell_type": "markdown",
   "id": "28c1ccf5",
   "metadata": {},
   "source": [
    "here we count average relative increases in similarity metrics"
   ]
  },
  {
   "cell_type": "code",
   "execution_count": 85,
   "id": "4b3a4cc5",
   "metadata": {
    "scrolled": true
   },
   "outputs": [
    {
     "name": "stdout",
     "output_type": "stream",
     "text": [
      "(1031, 40981) (980, 40981) (1031, 40981) (980, 40981)\n"
     ]
    },
    {
     "name": "stderr",
     "output_type": "stream",
     "text": [
      "100%|██████████| 7989/7989 [00:38<00:00, 206.37it/s]\n",
      "100%|██████████| 5/5 [14:41<00:00, 176.39s/it]\n",
      "100%|██████████| 7989/7989 [00:39<00:00, 201.62it/s]\n",
      "100%|██████████| 5/5 [14:27<00:00, 173.49s/it]\n",
      "100%|██████████| 7989/7989 [00:38<00:00, 205.80it/s]\n",
      "100%|██████████| 5/5 [14:53<00:00, 178.71s/it]\n"
     ]
    },
    {
     "name": "stdout",
     "output_type": "stream",
     "text": [
      "\n",
      "        \\begin{figure*}[t!]\n",
      "        \\begin{center}\n",
      "        \\begin{tikzpicture}[scale=0.6]\n",
      "        \\begin{axis}[\n",
      "            %title={Average relative increase in \"recall@20\" similarity metric},\n",
      "            title={},\n",
      "            xlabel={Nearest Neighbor number},\n",
      "            ylabel={Average relative increase, \\%},\n",
      "            xmin=1, xmax=20 ,\n",
      "ymin=0.07491430298395312, ymax=0.11308937593696096,  \n",
      "  xtick={1,5,10,15,20},\n",
      "    ytick={0.07885716103574013,0.08266074046920911,0.0864643199026781,0.09026789933614707,0.09407147876961605,0.09787505820308504,0.10167863763655402,0.105482217070023,0.10928579650349197,0.11308937593696096},\n",
      "legend pos=north west,\n",
      "        ymajorgrids=true,\n",
      "        grid style=dashed,\n",
      "    ]\n",
      "    \n",
      "        \\addplot[\n",
      "            color=black,\n",
      "            mark=square,\n",
      "            ]\n",
      "            coordinates {(1,0.07885716103574013)(5,0.1006775320402736)(10,0.10655483059683389)(15,0.10770416755901044)(20,0.10489401314844651)};\n",
      " \\addlegendentry{multivae}\n",
      "        \\addplot[\n",
      "            color=red,\n",
      "            mark=square,\n",
      "            ]\n",
      "            coordinates {(1,0.09327172612685031)(5,0.08821348689876582)(10,0.0869222228500455)(15,0.08635212217044516)(20,0.08313626253074542)};\n",
      " \\addlegendentry{ease}\n",
      "        \\addplot[\n",
      "            color=blue,\n",
      "            mark=square,\n",
      "            ]\n",
      "            coordinates {(1,0.09145711086315572)(5,0.09795799206880623)(10,0.10078326285018731)(15,0.10116955959759422)(20,0.10230492652294598)};\n",
      " \\addlegendentry{ials}\\end{axis}\n",
      "(945, 38048) (1002, 38048) (945, 38048) (1002, 38048)\n"
     ]
    },
    {
     "name": "stderr",
     "output_type": "stream",
     "text": [
      "100%|██████████| 8053/8053 [00:36<00:00, 218.72it/s]\n",
      "  0%|          | 0/5 [00:00<?, ?it/s]"
     ]
    },
    {
     "name": "stdout",
     "output_type": "stream",
     "text": [
      "1000 processed out of 1002\n"
     ]
    },
    {
     "name": "stderr",
     "output_type": "stream",
     "text": [
      " 20%|██        | 1/5 [02:46<11:06, 166.58s/it]"
     ]
    },
    {
     "name": "stdout",
     "output_type": "stream",
     "text": [
      "1000 processed out of 1002\n"
     ]
    },
    {
     "name": "stderr",
     "output_type": "stream",
     "text": [
      " 40%|████      | 2/5 [05:35<08:23, 167.91s/it]"
     ]
    },
    {
     "name": "stdout",
     "output_type": "stream",
     "text": [
      "1000 processed out of 1002\n"
     ]
    },
    {
     "name": "stderr",
     "output_type": "stream",
     "text": [
      " 60%|██████    | 3/5 [08:23<05:35, 167.98s/it]"
     ]
    },
    {
     "name": "stdout",
     "output_type": "stream",
     "text": [
      "1000 processed out of 1002\n"
     ]
    },
    {
     "name": "stderr",
     "output_type": "stream",
     "text": [
      " 80%|████████  | 4/5 [11:14<02:49, 169.05s/it]"
     ]
    },
    {
     "name": "stdout",
     "output_type": "stream",
     "text": [
      "1000 processed out of 1002\n"
     ]
    },
    {
     "name": "stderr",
     "output_type": "stream",
     "text": [
      "100%|██████████| 5/5 [14:05<00:00, 169.11s/it]\n",
      "100%|██████████| 8053/8053 [00:36<00:00, 222.21it/s]\n",
      "  0%|          | 0/5 [00:00<?, ?it/s]"
     ]
    },
    {
     "name": "stdout",
     "output_type": "stream",
     "text": [
      "1000 processed out of 1002\n"
     ]
    },
    {
     "name": "stderr",
     "output_type": "stream",
     "text": [
      " 20%|██        | 1/5 [02:47<11:09, 167.47s/it]"
     ]
    },
    {
     "name": "stdout",
     "output_type": "stream",
     "text": [
      "1000 processed out of 1002\n"
     ]
    },
    {
     "name": "stderr",
     "output_type": "stream",
     "text": [
      " 40%|████      | 2/5 [05:35<08:22, 167.52s/it]"
     ]
    },
    {
     "name": "stdout",
     "output_type": "stream",
     "text": [
      "1000 processed out of 1002\n"
     ]
    },
    {
     "name": "stderr",
     "output_type": "stream",
     "text": [
      " 60%|██████    | 3/5 [08:23<05:35, 167.80s/it]"
     ]
    },
    {
     "name": "stdout",
     "output_type": "stream",
     "text": [
      "1000 processed out of 1002\n"
     ]
    },
    {
     "name": "stderr",
     "output_type": "stream",
     "text": [
      " 80%|████████  | 4/5 [11:11<02:48, 168.08s/it]"
     ]
    },
    {
     "name": "stdout",
     "output_type": "stream",
     "text": [
      "1000 processed out of 1002\n"
     ]
    },
    {
     "name": "stderr",
     "output_type": "stream",
     "text": [
      "100%|██████████| 5/5 [14:01<00:00, 168.33s/it]\n",
      "100%|██████████| 8053/8053 [00:35<00:00, 226.13it/s]\n",
      "  0%|          | 0/5 [00:00<?, ?it/s]"
     ]
    },
    {
     "name": "stdout",
     "output_type": "stream",
     "text": [
      "1000 processed out of 1002\n"
     ]
    },
    {
     "name": "stderr",
     "output_type": "stream",
     "text": [
      " 20%|██        | 1/5 [02:46<11:05, 166.42s/it]"
     ]
    },
    {
     "name": "stdout",
     "output_type": "stream",
     "text": [
      "1000 processed out of 1002\n"
     ]
    },
    {
     "name": "stderr",
     "output_type": "stream",
     "text": [
      " 40%|████      | 2/5 [05:33<08:20, 166.69s/it]"
     ]
    },
    {
     "name": "stdout",
     "output_type": "stream",
     "text": [
      "1000 processed out of 1002\n"
     ]
    },
    {
     "name": "stderr",
     "output_type": "stream",
     "text": [
      " 60%|██████    | 3/5 [08:22<05:35, 167.76s/it]"
     ]
    },
    {
     "name": "stdout",
     "output_type": "stream",
     "text": [
      "1000 processed out of 1002\n"
     ]
    },
    {
     "name": "stderr",
     "output_type": "stream",
     "text": [
      " 80%|████████  | 4/5 [11:12<02:48, 168.71s/it]"
     ]
    },
    {
     "name": "stdout",
     "output_type": "stream",
     "text": [
      "1000 processed out of 1002\n"
     ]
    },
    {
     "name": "stderr",
     "output_type": "stream",
     "text": [
      "100%|██████████| 5/5 [14:04<00:00, 168.86s/it]"
     ]
    },
    {
     "name": "stdout",
     "output_type": "stream",
     "text": [
      "\n",
      "        \\begin{figure*}[t!]\n",
      "        \\begin{center}\n",
      "        \\begin{tikzpicture}[scale=0.6]\n",
      "        \\begin{axis}[\n",
      "            %title={Average relative increase in \"recall@20\" similarity metric},\n",
      "            title={},\n",
      "            xlabel={Nearest Neighbor number},\n",
      "            ylabel={Average relative increase, \\%},\n",
      "            xmin=1, xmax=20 ,\n",
      "ymin=0.043253637427856435, ymax=0.05661481842831509,  \n",
      "  xtick={1,5,10,15,20},\n",
      "    ytick={0.045530144660901516,0.04676177507950302,0.04799340549810453,0.04922503591670604,0.05045666633530755,0.051688296753909055,0.05291992717251057,0.05415155759111207,0.05538318800971358,0.05661481842831509},\n",
      "legend pos=north west,\n",
      "        ymajorgrids=true,\n",
      "        grid style=dashed,\n",
      "    ]\n",
      "    \n",
      "        \\addplot[\n",
      "            color=black,\n",
      "            mark=square,\n",
      "            ]\n",
      "            coordinates {(1,0.045530144660901516)(5,0.04753986845053615)(10,0.04869432379690692)(15,0.04879390955715797)(20,0.047602293402597605)};\n",
      " \\addlegendentry{multivae}\n",
      "        \\addplot[\n",
      "            color=red,\n",
      "            mark=square,\n",
      "            ]\n",
      "            coordinates {(1,0.0462701953442951)(5,0.047724935531514884)(10,0.04686590940647832)(15,0.04669904509968081)(20,0.0461326126625039)};\n",
      " \\addlegendentry{ease}\n",
      "        \\addplot[\n",
      "            color=blue,\n",
      "            mark=square,\n",
      "            ]\n",
      "            coordinates {(1,0.04759439598071555)(5,0.050666516603922865)(10,0.05383950776968259)(15,0.05391887469363341)(20,0.052890345152505416)};\n",
      " \\addlegendentry{ials}\\end{axis}\n",
      "CPU times: user 1h 27min 11s, sys: 3min, total: 1h 30min 11s\n",
      "Wall time: 1h 30min 14s\n"
     ]
    },
    {
     "name": "stderr",
     "output_type": "stream",
     "text": [
      "\n"
     ]
    }
   ],
   "source": [
    "%%time\n",
    "\n",
    "global_dict_gen = {}\n",
    "nngb_list2 = [1,5, 10, 15, 20] \n",
    "\n",
    "plot_metric = 'recall@20'\n",
    "datasets = ['gowalla','yelp2018']\n",
    "models_include = ['multivae','ease','ials']\n",
    "\n",
    "for dataset in datasets:\n",
    "    \n",
    "    global_y_values = []\n",
    "    \n",
    "    train_matrix = sps.load_npz(f'../assets/clean/{dataset}/interactions.train.npz').toarray()\n",
    "    \n",
    "    output_valid = sps.load_npz(f'../assets/clean/{dataset}/spr_interactions_output.valid.npz').toarray()\n",
    "    output_test = sps.load_npz(f'../assets/clean/{dataset}/spr_interactions_output.test.npz').toarray()\n",
    "\n",
    "    input_valid = sps.load_npz(f'../assets/clean/{dataset}/spr_interactions_input.valid.npz').toarray()\n",
    "    input_test = sps.load_npz(f'../assets/clean/{dataset}/spr_interactions_input.test.npz').toarray()\n",
    "    \n",
    "    \n",
    "    \n",
    "    print(output_valid.shape, output_test.shape, input_valid.shape, input_test.shape)\n",
    "\n",
    "                \n",
    "    ''' SP Tuning '''\n",
    "    \n",
    "\n",
    "    for model in models_include:\n",
    "        \n",
    "        train_preds =  np.load(f'../assets/clean/{dataset}/{dataset}_{model}/train_preds.npy')\n",
    "        \n",
    "        metric = 'angular' if optimal_values[(dataset,model)] == 0 else 'euclidean'\n",
    "        sp = SemiPers(train_matrix, train_preds,metric=metric)\n",
    "        \n",
    "        for nngb in tqdm(nngb_list2):\n",
    "            recall = Recall(topk=[10, 20, 50, 100])\n",
    "            ndcg = NDCG(topk=[10, 20, 50, 100])\n",
    "            \n",
    "            preds = sp.predict(input_test,nngb=nngb)\n",
    "            \n",
    "            preds[input_test>0] = -np.inf\n",
    "            ndcg(preds, output_test)\n",
    "            recall(preds, output_test)\n",
    "            \n",
    "            for metric in (recall, ndcg):\n",
    "                values = metric.get_metric()\n",
    "                for key in values.keys():\n",
    "                    global_dict_gen[(dataset, 'ESPRec_'+\"{\"+model+'}'+f'_{nngb}', key)] = values[key]\n",
    "                    if plot_metric == key:\n",
    "                        global_y_values.append(values[key])\n",
    "                    \n",
    "    \n",
    "    pattern = '''\n",
    "        \\\\begin{figure*}[t!]\n",
    "        \\\\begin{center}\n",
    "        \\\\begin{tikzpicture}[scale=0.6]\n",
    "        \\\\begin{axis}[\n",
    "            %title={Average relative increase in \"'''+ 'recall@20' + '''\" similarity metric},\n",
    "            title={},\n",
    "            xlabel={Nearest Neighbor number},\n",
    "            ylabel={Average relative increase, \\%},\n",
    "            xmin=1, xmax=''' + str(max(nngb_list2))\n",
    "    pattern += ''' ,\\nymin='''+str(0.95 * min(global_y_values))+''', ymax=''' + str(1.05 * max(global_y_values))+','\n",
    "\n",
    "\n",
    "    pattern += '''  \\n  xtick={'''+','.join(map(str,nngb_list2))+'},\\n'\n",
    "    pattern += '''    ytick={'''+','.join(map(str,np.linspace(min(global_y_values),1.05* max(global_y_values), 10)))+'},\\n'\n",
    "\n",
    "    pattern += '''legend pos=north west,\n",
    "        ymajorgrids=true,\n",
    "        grid style=dashed,\n",
    "    ]\n",
    "    '''\n",
    "\n",
    "\n",
    "    for color, model in zip(['black','red','blue'],models_include):\n",
    "\n",
    "        x = [(int(x[1].split('_')[-1]), global_dict_gen[x]) for x in global_dict_gen if x[0] == dataset and  'ESPRec_{'+model+'}_' in x[1] and x[2] == plot_metric]\n",
    "        x = sorted(x, key=lambda x: x[0])\n",
    "        y = [t[1] for t in x]\n",
    "        x = [t[0] for t in x]\n",
    "\n",
    "\n",
    "        pattern += f'''\n",
    "        \\\\addplot[\n",
    "            color={color},\n",
    "            mark=square,\n",
    "            ]\n",
    "            coordinates '''\n",
    "\n",
    "        pattern += '{('+')('.join([f'{x1},{y1}' for x1, y1 in zip(x, y)])+')'\n",
    "        pattern += '''};\\n \\\\addlegendentry{'''+model+'''}'''\n",
    "\n",
    "\n",
    "    pattern += '''\\\\end{axis}'''\n",
    "\n",
    "\n",
    "    print(pattern)\n"
   ]
  },
  {
   "cell_type": "code",
   "execution_count": null,
   "id": "5254d0c2",
   "metadata": {},
   "outputs": [],
   "source": []
  },
  {
   "cell_type": "code",
   "execution_count": null,
   "id": "26ceee2a",
   "metadata": {},
   "outputs": [],
   "source": []
  },
  {
   "cell_type": "markdown",
   "id": "5afc4617",
   "metadata": {},
   "source": [
    "## III. Latex table with main results"
   ]
  },
  {
   "cell_type": "code",
   "execution_count": null,
   "id": "3c85a68d",
   "metadata": {},
   "outputs": [],
   "source": [
    "model2idx = {'top_popular': 0, 'multivae': 1,'ESPRec_{multivae}':2, 'ease': 3,\n",
    "            'ESPRec_{ease}':4,'recvae':5, 'ESPRec_{recvae}':6,'ESPRec_{ials}':7}\n",
    "\n",
    "data_metric2idx = {('ml-1m','recall@20'):0,('ml-1m','ndcg@20'):1,\n",
    "                   ('gowalla','recall@20'):2,('gowalla','ndcg@20'):3,\n",
    "                  ('yelp2018','recall@20'):4,('yelp2018','ndcg@20'):5}\n",
    "\n",
    "\n",
    "fills = {i:'-'  for i in range(len(model2idx) * len(data_metric2idx))}\n",
    "count = 0\n",
    "for el in model2idx:\n",
    "    for el2 in data_metric2idx:\n",
    "        v = data_metric2idx[el2] + model2idx[el] * len(data_metric2idx)\n",
    "        if (el2[0], el, el2[1])  in global_dict_gen:\n",
    "            fills[v] = global_dict_gen[(el2[0], el, el2[1])]\n",
    "\n",
    "fills"
   ]
  },
  {
   "cell_type": "code",
   "execution_count": 78,
   "id": "8b7ce5cf",
   "metadata": {},
   "outputs": [
    {
     "name": "stdout",
     "output_type": "stream",
     "text": [
      "\n",
      "\n",
      " \\begin{table*}[t!]\n",
      " \\caption{Performance comparison on three datasets. The best value is boldfaced.}\n",
      "\\label{benchmarkresults}\n",
      "\\begin{tblr}{|l|c|c|c|c|c|c|}\n",
      "\\toprule\n",
      "  & \\SetCell[c=2]{c} ML-1M  & & \\SetCell[c=2]{c} Gowalla & & \\SetCell[c=2]{c} Yelp2018 & \\\\ \n",
      "\\cmidrule{1-7}\n",
      "  &  RECALL@20& NDCG@20   &  RECALL@20& NDCG@20     &  RECALL@20& NDCG@20 \\\\\n",
      "\\midrule\n",
      "   TopPop & 0.018 &0.028& 0.036 & 0.03& 0.022 & 0.017\\\\\n",
      "   $MultiVAE$  & 0.056&0.115&0.11& 0.095& 0.053 & 0.047 \\\\ \n",
      "   $EMAIR_{MultiVAE}$  & 0.056&0.115&0.107& 0.092& 0.049 & 0.043 \\\\ \n",
      "   $EASE$  & 0.028&0.031&0.11& 0.098& 0.053 & 0.045 \\\\\n",
      "   $EMAIR_{EASE}$  & 0.028&0.031&0.093& 0.083& 0.048 & 0.04 \\\\ \n",
      "  % $RecVAE$  & -&-&-& -& - & - \\\\\n",
      "  % $EMAIR_{RecVAE}$  & -&-&-& -& - & - \\\\ \n",
      "   $IALS$  & 0.046&0.051&0.101& 0.092& 0.054 & 0.045 \\\\ \n",
      "   \\bottomrule\n",
      "\\end{tblr}\n",
      "\\end{table*} \n"
     ]
    }
   ],
   "source": [
    "\n",
    "\n",
    "pattern = '''\n",
    "\n",
    " \\\\begin{table*}[t!]\n",
    " \\caption{Performance comparison on three datasets. The best value is boldfaced.}\n",
    "\\label{benchmarkresults}\n",
    "\\\\begin{tblr}{|l|c|c|c|c|c|c|}\n",
    "\\\\toprule\n",
    "  & \\SetCell[c=2]{c} ML-1M  & & \\SetCell[c=2]{c} Gowalla & & \\SetCell[c=2]{c} Yelp2018 & \\\\\\\\ \n",
    "\\cmidrule{1-7}\n",
    "  &  RECALL@20& NDCG@20   &  RECALL@20& NDCG@20     &  RECALL@20& NDCG@20 \\\\\\\\\n",
    "\\midrule''' \n",
    "\n",
    "pattern += '''\n",
    "   TopPop & m0000 &m0001& m0002 & m0003& m0004 & m0005\\\\\\\\\n",
    "   $MultiVAE$  & m0006&m0007&m0008& m0009& m0010 & m0011 \\\\\\\\ \n",
    "   $EMAIR_{MultiVAE}$  & m0012&m0013&m0014& m0015& m0016 & m0017 \\\\\\\\ \n",
    "   $EASE$  & m0018&m0019&m0020& m0021& m0022 & m0023 \\\\\\\\\n",
    "   $EMAIR_{EASE}$  & m0024&m0025&m0026& m0027& m0028 & m0029 \\\\\\\\ \n",
    "  % $RecVAE$  & m0030&m0031&m0032& m0033& m0034 & m0035 \\\\\\\\\n",
    "  % $EMAIR_{RecVAE}$  & m0036&m0037&m0038& m0039& m0040 & m0041 \\\\\\\\ \n",
    "   $IALS$  & m0042&m0043&m0044& m0045& m0046 & m0047 \\\\\\\\ \n",
    "   '''\n",
    "\n",
    "pattern += '''\\\\bottomrule\n",
    "\\end{tblr}\n",
    "\\end{table*} '''\n",
    "\n",
    "\n",
    "for i in range(len(fills)):\n",
    "    number = 'm' + ('000'+str(i))[-4:]\n",
    "    if fills[i] == '-':\n",
    "        pattern = pattern.replace(number,'-')\n",
    "    else:\n",
    "        pattern = pattern.replace(number, str(round(fills[i],3)))\n",
    "\n",
    "print(pattern)"
   ]
  },
  {
   "cell_type": "markdown",
   "id": "dbd5fca0",
   "metadata": {},
   "source": [
    "## IV. Hyperparameter tuning"
   ]
  },
  {
   "cell_type": "code",
   "execution_count": 212,
   "id": "6bc6ad4e",
   "metadata": {},
   "outputs": [
    {
     "name": "stderr",
     "output_type": "stream",
     "text": [
      "100%|██████████| 4809/4809 [00:02<00:00, 1806.67it/s]\n",
      "100%|██████████| 100/100 [00:00<00:00, 1735.85it/s]\n",
      "100%|██████████| 100/100 [00:00<00:00, 1803.61it/s]\n",
      "100%|██████████| 100/100 [00:00<00:00, 1725.55it/s]\n",
      "100%|██████████| 100/100 [00:00<00:00, 1751.85it/s]\n",
      "100%|██████████| 100/100 [00:00<00:00, 2245.95it/s]\n"
     ]
    },
    {
     "name": "stdout",
     "output_type": "stream",
     "text": [
      "11.597056689812435 [ 0.          6.01098559  8.61229143 10.28085812 11.59705669]\n"
     ]
    },
    {
     "name": "stderr",
     "output_type": "stream",
     "text": [
      "100%|██████████| 7989/7989 [00:46<00:00, 171.04it/s]\n",
      "100%|██████████| 100/100 [00:00<00:00, 138.15it/s]\n",
      "100%|██████████| 100/100 [00:00<00:00, 136.18it/s]\n",
      "100%|██████████| 100/100 [00:00<00:00, 137.67it/s]\n",
      "100%|██████████| 100/100 [00:00<00:00, 132.35it/s]\n",
      "100%|██████████| 100/100 [00:00<00:00, 148.92it/s]\n"
     ]
    },
    {
     "name": "stdout",
     "output_type": "stream",
     "text": [
      "11.597056689812435 [0.         1.4920859  2.15747555 2.4599254  2.68172195]\n"
     ]
    },
    {
     "name": "stderr",
     "output_type": "stream",
     "text": [
      "100%|██████████| 8053/8053 [00:42<00:00, 189.30it/s]\n",
      "100%|██████████| 100/100 [00:00<00:00, 141.38it/s]\n",
      "100%|██████████| 100/100 [00:00<00:00, 147.07it/s]\n",
      "100%|██████████| 100/100 [00:00<00:00, 199.58it/s]\n",
      "100%|██████████| 100/100 [00:00<00:00, 174.96it/s]\n",
      "100%|██████████| 100/100 [00:00<00:00, 148.78it/s]\n"
     ]
    },
    {
     "name": "stdout",
     "output_type": "stream",
     "text": [
      "11.597056689812435 [0.         3.03270042 4.33808017 5.30063291 5.72257384]\n"
     ]
    },
    {
     "data": {
      "image/png": "[encoded data removed]",
      "text/plain": [
       "<Figure size 432x288 with 1 Axes>"
      ]
     },
     "metadata": {},
     "output_type": "display_data"
    },
    {
     "name": "stdout",
     "output_type": "stream",
     "text": [
      "defaultdict(<class 'list'>, {'ml-1m': array([ 0.        ,  6.01098559,  8.61229143, 10.28085812, 11.59705669]), 'gowalla': array([0.        , 1.4920859 , 2.15747555, 2.4599254 , 2.68172195]), 'yelp2018': array([0.        , 3.03270042, 4.33808017, 5.30063291, 5.72257384])})\n",
      "\n",
      "    \\begin{figure*}[t!]\n",
      "    \\begin{center}\n",
      "    \\begin{tikzpicture}[scale=0.6]\n",
      "    \\begin{axis}[\n",
      "        %title={Average relative increase in \"hamming\" similarity metric},\n",
      "        title={},\n",
      "        xlabel={Nearest Neighbor number},\n",
      "        ylabel={Average relative increase, \\%},\n",
      "        xmin=1, xmax=20 ,\n",
      "ymin=0, ymax=12.176909524303058,  \n",
      "  xtick={1,5,10,15,20},\n",
      "    ytick={0.0,1.4174180398659644,2.8348360797319287,4.252254119597893,5.6696721594638575,7.087090199329822,8.504508239195786,9.92192627906175,11.339344318927715,12.75676235879368},\n",
      "legend pos=north west,\n",
      "        ymajorgrids=true,\n",
      "        grid style=dashed,\n",
      "    ]\n",
      "    \n",
      "        \\addplot[\n",
      "            color=blue,\n",
      "            mark=square,\n",
      "            ]\n",
      "            coordinates {(1,0.0)(5,6.010985594362128)(10,8.612291429163644)(15,10.280858120012448)(20,11.597056689812435)};\n",
      " \\addlegendentry{ml-1m}\n",
      "        \\addplot[\n",
      "            color=red,\n",
      "            mark=square,\n",
      "            ]\n",
      "            coordinates {(1,0.0)(5,1.4920858957556238)(10,2.1574755519709665)(15,2.459925395705209)(20,2.6817219477769827)};\n",
      " \\addlegendentry{gowalla}\n",
      "        \\addplot[\n",
      "            color=black,\n",
      "            mark=square,\n",
      "            ]\n",
      "            coordinates {(1,0.0)(5,3.032700421940926)(10,4.33808016877637)(15,5.3006329113924)(20,5.722573839662459)};\n",
      " \\addlegendentry{yelp2018}\\end{axis}\n"
     ]
    },
    {
     "name": "stderr",
     "output_type": "stream",
     "text": [
      "100%|██████████| 4809/4809 [00:02<00:00, 1644.21it/s]\n",
      "100%|██████████| 100/100 [00:00<00:00, 200.00it/s]\n",
      "100%|██████████| 100/100 [00:00<00:00, 227.91it/s]\n",
      "100%|██████████| 100/100 [00:00<00:00, 225.76it/s]\n",
      "100%|██████████| 100/100 [00:00<00:00, 213.20it/s]\n",
      "100%|██████████| 100/100 [00:00<00:00, 198.32it/s]\n"
     ]
    },
    {
     "name": "stdout",
     "output_type": "stream",
     "text": [
      "6.791556947825628 [0.         3.63557483 5.26514343 6.15322431 6.79155695]\n"
     ]
    },
    {
     "name": "stderr",
     "output_type": "stream",
     "text": [
      "100%|██████████| 7989/7989 [00:47<00:00, 167.21it/s]\n",
      "100%|██████████| 100/100 [00:19<00:00,  5.13it/s]\n",
      "100%|██████████| 100/100 [00:19<00:00,  5.13it/s]\n",
      "100%|██████████| 100/100 [00:19<00:00,  5.03it/s]\n",
      "100%|██████████| 100/100 [00:19<00:00,  5.05it/s]\n",
      "100%|██████████| 100/100 [00:19<00:00,  5.03it/s]\n"
     ]
    },
    {
     "name": "stdout",
     "output_type": "stream",
     "text": [
      "8.06453190163612 [0.         5.3859236  6.79023745 7.52894403 8.0645319 ]\n"
     ]
    },
    {
     "name": "stderr",
     "output_type": "stream",
     "text": [
      "100%|██████████| 8053/8053 [00:45<00:00, 176.75it/s]\n",
      "100%|██████████| 100/100 [00:19<00:00,  5.22it/s]\n",
      "100%|██████████| 100/100 [00:19<00:00,  5.26it/s]\n",
      "100%|██████████| 100/100 [00:19<00:00,  5.22it/s]\n",
      "100%|██████████| 100/100 [00:18<00:00,  5.32it/s]\n",
      "100%|██████████| 100/100 [00:18<00:00,  5.39it/s]"
     ]
    },
    {
     "name": "stdout",
     "output_type": "stream",
     "text": [
      "8.06453190163612 [0.         2.97083136 4.41372192 5.13574784 5.70849464]\n"
     ]
    },
    {
     "name": "stderr",
     "output_type": "stream",
     "text": [
      "\n"
     ]
    },
    {
     "data": {
      "image/png": "[encoded data removed]",
      "text/plain": [
       "<Figure size 432x288 with 1 Axes>"
      ]
     },
     "metadata": {},
     "output_type": "display_data"
    },
    {
     "name": "stdout",
     "output_type": "stream",
     "text": [
      "defaultdict(<class 'list'>, {'ml-1m': array([0.        , 3.63557483, 5.26514343, 6.15322431, 6.79155695]), 'gowalla': array([0.        , 5.3859236 , 6.79023745, 7.52894403, 8.0645319 ]), 'yelp2018': array([0.        , 2.97083136, 4.41372192, 5.13574784, 5.70849464])})\n",
      "\n",
      "    \\begin{figure*}[t!]\n",
      "    \\begin{center}\n",
      "    \\begin{tikzpicture}[scale=0.6]\n",
      "    \\begin{axis}[\n",
      "        %title={Average relative increase in \"angular\" similarity metric},\n",
      "        title={},\n",
      "        xlabel={Nearest Neighbor number},\n",
      "        ylabel={Average relative increase, \\%},\n",
      "        xmin=1, xmax=20 ,\n",
      "ymin=0, ymax=8.467758496717925,  \n",
      "  xtick={1,5,10,15,20},\n",
      "    ytick={0.0,0.9856650101999702,1.9713300203999404,2.9569950305999106,3.942660040799881,4.928325050999851,5.913990061199821,6.899655071399792,7.885320081599762,8.870985091799731},\n",
      "legend pos=north west,\n",
      "        ymajorgrids=true,\n",
      "        grid style=dashed,\n",
      "    ]\n",
      "    \n",
      "        \\addplot[\n",
      "            color=blue,\n",
      "            mark=square,\n",
      "            ]\n",
      "            coordinates {(1,0.0)(5,3.635574828488952)(10,5.265143433073161)(15,6.153224314516437)(20,6.791556947825628)};\n",
      " \\addlegendentry{ml-1m}\n",
      "        \\addplot[\n",
      "            color=red,\n",
      "            mark=square,\n",
      "            ]\n",
      "            coordinates {(1,0.0)(5,5.385923600057496)(10,6.790237452882386)(15,7.528944025819073)(20,8.06453190163612)};\n",
      " \\addlegendentry{gowalla}\n",
      "        \\addplot[\n",
      "            color=black,\n",
      "            mark=square,\n",
      "            ]\n",
      "            coordinates {(1,0.0)(5,2.9708313571706224)(10,4.413721917987323)(15,5.135747835998816)(20,5.7084946439400985)};\n",
      " \\addlegendentry{yelp2018}\\end{axis}\n"
     ]
    },
    {
     "name": "stderr",
     "output_type": "stream",
     "text": [
      "100%|██████████| 4809/4809 [00:02<00:00, 1636.29it/s]\n",
      "100%|██████████| 100/100 [00:00<00:00, 206.33it/s]\n",
      "100%|██████████| 100/100 [00:00<00:00, 186.50it/s]\n",
      "100%|██████████| 100/100 [00:00<00:00, 171.13it/s]\n",
      "100%|██████████| 100/100 [00:00<00:00, 177.90it/s]\n",
      "100%|██████████| 100/100 [00:00<00:00, 163.97it/s]\n"
     ]
    },
    {
     "name": "stdout",
     "output_type": "stream",
     "text": [
      "6.764628118449156 [0.         3.60598027 5.17059755 6.03232122 6.76462812]\n"
     ]
    },
    {
     "name": "stderr",
     "output_type": "stream",
     "text": [
      "100%|██████████| 7989/7989 [00:46<00:00, 173.10it/s]\n",
      "100%|██████████| 100/100 [00:21<00:00,  4.73it/s]\n",
      "100%|██████████| 100/100 [00:20<00:00,  4.81it/s]\n",
      "100%|██████████| 100/100 [00:20<00:00,  4.80it/s]\n",
      "100%|██████████| 100/100 [00:20<00:00,  4.86it/s]\n",
      "100%|██████████| 100/100 [00:20<00:00,  4.83it/s]\n"
     ]
    },
    {
     "name": "stdout",
     "output_type": "stream",
     "text": [
      "6.764628118449156 [0.         2.2422837  2.87415214 3.25257112 3.48240837]\n"
     ]
    },
    {
     "name": "stderr",
     "output_type": "stream",
     "text": [
      "100%|██████████| 8053/8053 [00:45<00:00, 176.78it/s]\n",
      "100%|██████████| 100/100 [00:19<00:00,  5.09it/s]\n",
      "100%|██████████| 100/100 [00:19<00:00,  5.18it/s]\n",
      "100%|██████████| 100/100 [00:19<00:00,  5.15it/s]\n",
      "100%|██████████| 100/100 [00:18<00:00,  5.32it/s]\n",
      "100%|██████████| 100/100 [00:18<00:00,  5.41it/s]"
     ]
    },
    {
     "name": "stdout",
     "output_type": "stream",
     "text": [
      "6.764628118449156 [0.         2.43390197 3.48330778 3.97323689 4.35436548]\n"
     ]
    },
    {
     "name": "stderr",
     "output_type": "stream",
     "text": [
      "\n"
     ]
    },
    {
     "data": {
      "image/png": "[encoded data removed]",
      "text/plain": [
       "<Figure size 432x288 with 1 Axes>"
      ]
     },
     "metadata": {},
     "output_type": "display_data"
    },
    {
     "name": "stdout",
     "output_type": "stream",
     "text": [
      "defaultdict(<class 'list'>, {'ml-1m': array([0.        , 3.60598027, 5.17059755, 6.03232122, 6.76462812]), 'gowalla': array([0.        , 2.2422837 , 2.87415214, 3.25257112, 3.48240837]), 'yelp2018': array([0.        , 2.43390197, 3.48330778, 3.97323689, 4.35436548])})\n",
      "\n",
      "    \\begin{figure*}[t!]\n",
      "    \\begin{center}\n",
      "    \\begin{tikzpicture}[scale=0.6]\n",
      "    \\begin{axis}[\n",
      "        %title={Average relative increase in \"euclidean\" similarity metric},\n",
      "        title={},\n",
      "        xlabel={Nearest Neighbor number},\n",
      "        ylabel={Average relative increase, \\%},\n",
      "        xmin=1, xmax=20 ,\n",
      "ymin=0, ymax=7.102859524371614,  \n",
      "  xtick={1,5,10,15,20},\n",
      "    ytick={0.0,0.8267878811437859,1.6535757622875717,2.4803636434313576,3.3071515245751435,4.133939405718929,4.960727286862715,5.787515168006501,6.614303049150287,7.441090930294073},\n",
      "legend pos=north west,\n",
      "        ymajorgrids=true,\n",
      "        grid style=dashed,\n",
      "    ]\n",
      "    \n",
      "        \\addplot[\n",
      "            color=blue,\n",
      "            mark=square,\n",
      "            ]\n",
      "            coordinates {(1,0.0)(5,3.6059802671719376)(10,5.170597551510148)(15,6.0323212230141365)(20,6.764628118449156)};\n",
      " \\addlegendentry{ml-1m}\n",
      "        \\addplot[\n",
      "            color=red,\n",
      "            mark=square,\n",
      "            ]\n",
      "            coordinates {(1,0.0)(5,2.242283698224834)(10,2.8741521367482203)(15,3.2525711224936193)(20,3.4824083741656686)};\n",
      " \\addlegendentry{gowalla}\n",
      "        \\addplot[\n",
      "            color=black,\n",
      "            mark=square,\n",
      "            ]\n",
      "            coordinates {(1,0.0)(5,2.433901968671348)(10,3.483307782575773)(15,3.9732368944162433)(20,4.354365479742284)};\n",
      " \\addlegendentry{yelp2018}\\end{axis}\n"
     ]
    }
   ],
   "source": [
    "from matplotlib import pyplot as plt\n",
    "from collections import defaultdict\n",
    "\n",
    "\n",
    "\n",
    "for metric in ['hamming','angular','euclidean']:\n",
    "\n",
    "    fig, ax = plt.subplots(1, 1)\n",
    "    global_y_values = []\n",
    "    max_dist = -1\n",
    "    global_d = defaultdict(list)\n",
    "    for path in ['ml-1m','gowalla','yelp2018']:\n",
    "\n",
    "        train_matrix = sps.load_npz(f'../assets/clean/{path}/interactions.train.npz').toarray()\n",
    "\n",
    "        index = AnnoyIndex(train_matrix.shape[1], metric)\n",
    "        for i in tqdm(range(train_matrix.shape[0])):\n",
    "            if train_matrix[i].sum():\n",
    "                index.add_item(i, train_matrix[i])\n",
    "\n",
    "        index.build(10) # 10 trees\n",
    "\n",
    "\n",
    "        l = [1,2,3,4,5,6,7,8,9,10]\n",
    "        avg_dist = []\n",
    "        for n in nngb_list:\n",
    "            distances = []\n",
    "            for i in tqdm(range(train_matrix[:100].shape[0])):\n",
    "                if train_matrix[i].sum():\n",
    "\n",
    "                    dist = index.get_nns_by_vector(train_matrix[i],n=max(nngb_list)+10,include_distances=True)[1][1:]\n",
    "                    distances.append(dist[n-1])\n",
    "\n",
    "            avg_dist.append(np.mean(distances))\n",
    "            global_d[path].append(np.mean(distances))\n",
    "\n",
    "        avg_dist = np.array(avg_dist)\n",
    "        avg_dist = ((avg_dist / avg_dist[0]) - 1 ) * 100\n",
    "\n",
    "        max_dist = max(max_dist, max(avg_dist))\n",
    "        print(max_dist, avg_dist)\n",
    "        ax.plot(nngb_list, avg_dist, label=path)\n",
    "\n",
    "        global_d[path] = np.array(global_d[path])\n",
    "        global_d[path] = ((global_d[path] / global_d[path][0]-1)*100)\n",
    "\n",
    "        global_y_values.extend(global_d[path])\n",
    "\n",
    "\n",
    "    ax.set_xlabel('Neighbor number')\n",
    "    ax.set_ylabel('Average relative increase in similarity metric')\n",
    "    ax.set_xticks(nngb_list)\n",
    "    ax.legend()\n",
    "    plt.show()\n",
    "    \n",
    "    print(global_d)\n",
    "    pattern = '''\n",
    "    \\\\begin{figure*}[t!]\n",
    "    \\\\begin{center}\n",
    "    \\\\begin{tikzpicture}[scale=0.6]\n",
    "    \\\\begin{axis}[\n",
    "        %title={Average relative increase in \"'''+ str(metric) + '''\" similarity metric},\n",
    "        title={},\n",
    "        xlabel={Nearest Neighbor number},\n",
    "        ylabel={Average relative increase, \\%},\n",
    "        xmin=1, xmax=''' + str(max(nngb_list))\n",
    "    pattern += ''' ,\\nymin=0, ymax=''' + str(1.05 * max_dist)+','\n",
    "\n",
    "\n",
    "    pattern += '''  \\n  xtick={'''+','.join(map(str,nngb_list))+'},\\n'\n",
    "    pattern += '''    ytick={'''+','.join(map(str,np.linspace(min(global_y_values),1.1* max(global_y_values), 10)))+'},\\n'\n",
    "\n",
    "    pattern += '''legend pos=north west,\n",
    "        ymajorgrids=true,\n",
    "        grid style=dashed,\n",
    "    ]\n",
    "    '''\n",
    "\n",
    "    for color, path in zip(['blue','red','black'],['ml-1m','gowalla','yelp2018']):\n",
    "        pattern += f'''\n",
    "        \\\\addplot[\n",
    "            color={color},\n",
    "            mark=square,\n",
    "            ]\n",
    "            coordinates '''\n",
    "\n",
    "        pattern += '{('+')('.join([f'{nngb_list[i]},{global_d[path][i]}' for i in range(len(nngb_list))])+')'\n",
    "        pattern += '''};\\n \\\\addlegendentry{'''+path+'''}'''\n",
    "\n",
    "        \n",
    "\n",
    "    pattern += '''\\\\end{axis}'''\n",
    "\n",
    "\n",
    "    print(pattern)"
   ]
  },
  {
   "cell_type": "code",
   "execution_count": 59,
   "id": "3db4e8a9",
   "metadata": {},
   "outputs": [
    {
     "name": "stdout",
     "output_type": "stream",
     "text": [
      "hamming\n"
     ]
    },
    {
     "name": "stderr",
     "output_type": "stream",
     "text": [
      "100%|██████████| 4809/4809 [00:02<00:00, 2089.84it/s]\n"
     ]
    },
    {
     "name": "stdout",
     "output_type": "stream",
     "text": [
      "0 processed out of 638\n",
      "100 processed out of 638\n",
      "200 processed out of 638\n",
      "300 processed out of 638\n",
      "400 processed out of 638\n",
      "500 processed out of 638\n",
      "600 processed out of 638\n",
      "angular\n"
     ]
    },
    {
     "name": "stderr",
     "output_type": "stream",
     "text": [
      "100%|██████████| 4809/4809 [00:02<00:00, 2260.41it/s]\n"
     ]
    },
    {
     "name": "stdout",
     "output_type": "stream",
     "text": [
      "0 processed out of 638\n",
      "100 processed out of 638\n",
      "200 processed out of 638\n",
      "300 processed out of 638\n",
      "400 processed out of 638\n",
      "500 processed out of 638\n",
      "600 processed out of 638\n",
      "euclidean\n"
     ]
    },
    {
     "name": "stderr",
     "output_type": "stream",
     "text": [
      "100%|██████████| 4809/4809 [00:02<00:00, 2353.54it/s]\n"
     ]
    },
    {
     "name": "stdout",
     "output_type": "stream",
     "text": [
      "0 processed out of 638\n",
      "100 processed out of 638\n",
      "200 processed out of 638\n",
      "300 processed out of 638\n",
      "400 processed out of 638\n",
      "500 processed out of 638\n",
      "600 processed out of 638\n"
     ]
    }
   ],
   "source": [
    "global_dict2 = {}\n",
    "\n",
    "for m in ['hamming','angular','euclidean']:\n",
    "\n",
    "    global_y_values = []\n",
    "    max_dist = -1\n",
    "    global_d = defaultdict(list)\n",
    "    for path in ['ml-1m']:\n",
    "\n",
    "        train_matrix = sps.load_npz(f'../assets/clean/{path}/interactions.train.npz').toarray()\n",
    "\n",
    "        \n",
    "\n",
    "        recall = Recall(topk=[10, 20, 50, 100])\n",
    "        ndcg = NDCG(topk=[10, 20, 50, 100])\n",
    "        train_preds =  np.load(f'../assets/clean/{dataset}/{dataset}_ials/train_preds.npy')\n",
    "        print(m)\n",
    "        sp = SemiPers(train_matrix, train_preds, metric=m)\n",
    "        preds = sp.predict(input_test, nngb=5)\n",
    "\n",
    "        preds[input_test>0] = -np.inf\n",
    "        ndcg(preds, output_test)\n",
    "        recall(preds, output_test)\n",
    "\n",
    "        for metric in (recall, ndcg):\n",
    "            values = metric.get_metric()\n",
    "            for key in values.keys():\n",
    "                global_dict2[(dataset, 'ESPRec_'+\"{\"+model+','+m+'}', key)] = values[key]\n",
    "\n",
    "\n"
   ]
  },
  {
   "cell_type": "code",
   "execution_count": null,
   "id": "29fa8add",
   "metadata": {},
   "outputs": [],
   "source": [
    "\n",
    "\n",
    "pattern = '''\n",
    "\n",
    " \\\\begin{table*}[t!]\n",
    " \\caption{Performance comparison on three datasets. The best value is boldfaced.}\n",
    "\\label{benchmarkresults}\n",
    "\\\\begin{tblr}{|l|c|c|c|c|c|c|}\n",
    "\\\\toprule\n",
    "  & \\SetCell[c=2]{c} ML-1M  & & \\SetCell[c=2]{c} Gowalla & & \\SetCell[c=2]{c} Yelp2018 & \\\\\\\\ \n",
    "\\cmidrule{1-7}\n",
    "  &  RECALL@20& NDCG@20   &  RECALL@20& NDCG@20     &  RECALL@20& NDCG@20 \\\\\\\\\n",
    "\\midrule''' \n",
    "\n",
    "pattern += '''\n",
    "   TopPop & m0000 &m0001& m0002 & m0003& m0004 & m0005\\\\\\\\\n",
    "   $MultiVAE$  & m0006&m0007&m0008& m0009& m0010 & m0011 \\\\\\\\ \n",
    "   $EMAIR_{MultiVAE}$  & m0012&m0013&m0014& m0015& m0016 & m0017 \\\\\\\\ \n",
    "   $EASE$  & m0018&m0019&m0020& m0021& m0022 & m0023 \\\\\\\\\n",
    "   $EMAIR_{EASE}$  & m0024&m0025&m0026& m0027& m0028 & m0029 \\\\\\\\ \n",
    "  % $RecVAE$  & m0030&m0031&m0032& m0033& m0034 & m0035 \\\\\\\\\n",
    "  % $EMAIR_{RecVAE}$  & m0036&m0037&m0038& m0039& m0040 & m0041 \\\\\\\\ \n",
    "   $IALS$  & m0042&m0043&m0044& m0045& m0046 & m0047 \\\\\\\\ \n",
    "   '''\n",
    "\n",
    "pattern += '''\\\\bottomrule\n",
    "\\end{tblr}\n",
    "\\end{table*} '''\n",
    "\n",
    "\n",
    "for i in range(len(fills)):\n",
    "    number = 'm' + ('000'+str(i))[-4:]\n",
    "    if fills[i] == '-':\n",
    "        pattern = pattern.replace(number,'-')\n",
    "    else:\n",
    "        pattern = pattern.replace(number, str(round(fills[i],3)))\n",
    "\n",
    "print(pattern)"
   ]
  },
  {
   "cell_type": "code",
   "execution_count": 60,
   "id": "cf4ce5dc",
   "metadata": {},
   "outputs": [
    {
     "data": {
      "text/plain": [
       "{('ml-1m', 'ESPRec_{ials,hamming}', 'recall@10'): 0.01576807539681002,\n",
       " ('ml-1m', 'ESPRec_{ials,hamming}', 'recall@20'): 0.03176607539589924,\n",
       " ('ml-1m', 'ESPRec_{ials,hamming}', 'recall@50'): 0.07562861025276475,\n",
       " ('ml-1m', 'ESPRec_{ials,hamming}', 'recall@100'): 0.14343481732028573,\n",
       " ('ml-1m', 'ESPRec_{ials,hamming}', 'ndcg@10'): 0.035929734443365904,\n",
       " ('ml-1m', 'ESPRec_{ials,hamming}', 'ndcg@20'): 0.04000951089614751,\n",
       " ('ml-1m', 'ESPRec_{ials,hamming}', 'ndcg@50'): 0.05673408891330182,\n",
       " ('ml-1m', 'ESPRec_{ials,hamming}', 'ndcg@100'): 0.08328092830942418,\n",
       " ('ml-1m', 'ESPRec_{ials,angular}', 'recall@10'): 0.02056266748095331,\n",
       " ('ml-1m', 'ESPRec_{ials,angular}', 'recall@20'): 0.03727707317302191,\n",
       " ('ml-1m', 'ESPRec_{ials,angular}', 'recall@50'): 0.07326300123483204,\n",
       " ('ml-1m', 'ESPRec_{ials,angular}', 'recall@100'): 0.13028445342244538,\n",
       " ('ml-1m', 'ESPRec_{ials,angular}', 'ndcg@10'): 0.030917754018636348,\n",
       " ('ml-1m', 'ESPRec_{ials,angular}', 'ndcg@20'): 0.03590394178381952,\n",
       " ('ml-1m', 'ESPRec_{ials,angular}', 'ndcg@50'): 0.049427974387970364,\n",
       " ('ml-1m', 'ESPRec_{ials,angular}', 'ndcg@100'): 0.07024489595175745,\n",
       " ('ml-1m', 'ESPRec_{ials,euclidean}', 'recall@10'): 0.023726564837711815,\n",
       " ('ml-1m', 'ESPRec_{ials,euclidean}', 'recall@20'): 0.04725125836793884,\n",
       " ('ml-1m', 'ESPRec_{ials,euclidean}', 'recall@50'): 0.09931937083441636,\n",
       " ('ml-1m', 'ESPRec_{ials,euclidean}', 'recall@100'): 0.1693320778724589,\n",
       " ('ml-1m', 'ESPRec_{ials,euclidean}', 'ndcg@10'): 0.04337301138827131,\n",
       " ('ml-1m', 'ESPRec_{ials,euclidean}', 'ndcg@20'): 0.05033711945875196,\n",
       " ('ml-1m', 'ESPRec_{ials,euclidean}', 'ndcg@50'): 0.06961803153765339,\n",
       " ('ml-1m', 'ESPRec_{ials,euclidean}', 'ndcg@100'): 0.09605607330617143}"
      ]
     },
     "execution_count": 60,
     "metadata": {},
     "output_type": "execute_result"
    }
   ],
   "source": [
    "global_dict2"
   ]
  },
  {
   "cell_type": "code",
   "execution_count": null,
   "id": "cfb6fc45",
   "metadata": {},
   "outputs": [],
   "source": []
  }
 ],
 "metadata": {
  "kernelspec": {
   "display_name": "Python 3",
   "language": "python",
   "name": "python3"
  },
  "language_info": {
   "codemirror_mode": {
    "name": "ipython",
    "version": 3
   },
   "file_extension": ".py",
   "mimetype": "text/x-python",
   "name": "python",
   "nbconvert_exporter": "python",
   "pygments_lexer": "ipython3",
   "version": "3.7.12"
  }
 },
 "nbformat": 4,
 "nbformat_minor": 5
}
